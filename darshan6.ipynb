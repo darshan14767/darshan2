{
 "cells": [
  {
   "cell_type": "code",
   "execution_count": 1,
   "id": "cb16281f-31e2-430e-97fc-215716c80f03",
   "metadata": {},
   "outputs": [
    {
     "name": "stdout",
     "output_type": "stream",
     "text": [
      "Tour: [0, np.int64(1), np.int64(3), np.int64(2), 0]\n",
      "Total Distance: 80\n"
     ]
    }
   ],
   "source": [
    "import numpy as np\n",
    "\n",
    "def nearest_neighbor_tsp(distance_matrix, start_city=0):\n",
    "    # Convert input to numpy array\n",
    "    distance_matrix = np.asarray(distance_matrix)\n",
    "    \n",
    "    # Check if the matrix is square\n",
    "    if distance_matrix.ndim != 2 or distance_matrix.shape[0] != distance_matrix.shape[1]:\n",
    "        raise ValueError(\"distance_matrix must be a square 2D array\")\n",
    "\n",
    "    num_cities = distance_matrix.shape[0]\n",
    "\n",
    "    # Validate start city index\n",
    "    if not (0 <= start_city < num_cities):\n",
    "        raise ValueError(\"start_city must be a valid city index\")\n",
    "\n",
    "    visited = [False] * num_cities\n",
    "    tour = [start_city]\n",
    "    visited[start_city] = True\n",
    "    total_distance = 0\n",
    "\n",
    "    current_city = start_city\n",
    "\n",
    "    for _ in range(num_cities - 1):\n",
    "        # Get distances from current city to all others\n",
    "        distances = distance_matrix[current_city]\n",
    "\n",
    "        # Set distance to already visited cities to infinity\n",
    "        distances = np.where(visited, np.inf, distances)\n",
    "\n",
    "        # Find nearest unvisited city\n",
    "        next_city = np.argmin(distances)\n",
    "        total_distance += distance_matrix[current_city, next_city]\n",
    "\n",
    "        # Move to next city\n",
    "        tour.append(next_city)\n",
    "        visited[next_city] = True\n",
    "        current_city = next_city\n",
    "\n",
    "    # Return to starting city\n",
    "    total_distance += distance_matrix[current_city, start_city]\n",
    "    tour.append(start_city)\n",
    "\n",
    "    return tour, total_distance\n",
    "\n",
    "\n",
    "# Example usage:\n",
    "if __name__ == \"__main__\":\n",
    "    dist_matrix = [\n",
    "        [0, 10, 15, 20],\n",
    "        [10, 0, 35, 25],\n",
    "        [15, 35, 0, 30],\n",
    "        [20, 25, 30, 0]\n",
    "    ]\n",
    "    \n",
    "    path, distance = nearest_neighbor_tsp(dist_matrix, start_city=0)\n",
    "    print(\"Tour:\", path)\n",
    "    print(\"Total Distance:\", distance)\n"
   ]
  },
  {
   "cell_type": "code",
   "execution_count": null,
   "id": "0a667e6d-3099-4aa5-9608-dd86a25e23b0",
   "metadata": {},
   "outputs": [],
   "source": []
  }
 ],
 "metadata": {
  "kernelspec": {
   "display_name": "Python 3 (ipykernel)",
   "language": "python",
   "name": "python3"
  },
  "language_info": {
   "codemirror_mode": {
    "name": "ipython",
    "version": 3
   },
   "file_extension": ".py",
   "mimetype": "text/x-python",
   "name": "python",
   "nbconvert_exporter": "python",
   "pygments_lexer": "ipython3",
   "version": "3.13.5"
  }
 },
 "nbformat": 4,
 "nbformat_minor": 5
}
